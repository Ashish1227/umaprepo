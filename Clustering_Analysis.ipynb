{
 "cells": [
  {
   "cell_type": "markdown",
   "metadata": {},
   "source": [
    "## Clustering Embeddings and Analysis"
   ]
  },
  {
   "cell_type": "code",
   "execution_count": null,
   "metadata": {},
   "outputs": [],
   "source": [
    "# In this notebook we retrieve uploaded embeddings from qdrant and make elbow and silhouette scores plots, we also do dimensionality\n",
    "# reduction using UMAP. we compare the plots between clustering the embeddings directly and clustering the UMAP embeddings. "
   ]
  },
  {
   "cell_type": "code",
   "execution_count": null,
   "metadata": {},
   "outputs": [],
   "source": [
    "import os\n",
    "import cv2\n",
    "import torch\n",
    "import pickle\n",
    "import numpy as np\n",
    "import pandas as pd\n",
    "from torch import nn\n",
    "import seaborn as sns\n",
    "from tqdm import tqdm\n",
    "from PIL import Image\n",
    "import multiprocessing\n",
    "import tensorflow as tf\n",
    "import umap.umap_ as umap\n",
    "import matplotlib.pyplot as plt\n",
    "from torchvision import transforms\n",
    "from sklearn.cluster import KMeans\n",
    "import matplotlib.patches as mpatches\n",
    "from tensorboard.plugins import projector\n",
    "from sklearn.metrics import silhouette_score\n",
    "from torch.utils.data import Dataset, DataLoader\n",
    "%matplotlib inline"
   ]
  },
  {
   "cell_type": "markdown",
   "metadata": {},
   "source": [
    "## Retrieve Embeddings from qdrant"
   ]
  },
  {
   "cell_type": "code",
   "execution_count": null,
   "metadata": {},
   "outputs": [],
   "source": [
    "from qdrant_client import QdrantClient\n",
    "from qdrant_client.models import Distance, VectorParams\n",
    "qdrant = QdrantClient(url='http://132.186.158.40:6333/')"
   ]
  },
  {
   "cell_type": "code",
   "execution_count": null,
   "metadata": {},
   "outputs": [],
   "source": [
    "def retrieve_points(collection_name,client,num_vectors):\n",
    "    res = client.scroll(\n",
    "    collection_name=collection_name,\n",
    "    scroll_filter=None,\n",
    "    limit=num_vectors,\n",
    "    with_payload=True,\n",
    "    with_vectors=True,\n",
    "    )\n",
    "    return res\n",
    "\n",
    "ret_points0 = retrieve_points(\"check1\",qdrant,1501)\n",
    "ret_points1 = retrieve_points(\"check2\",qdrant,1500)"
   ]
  },
  {
   "cell_type": "code",
   "execution_count": null,
   "metadata": {},
   "outputs": [],
   "source": [
    "def extract_embeddings(points):\n",
    "    ret_embeddings = []\n",
    "    ret_ids = [] #no need to keep anything here since id is just the index of the retrieved vector. (int(ret_points0[0][0].payload['text'].split()[1]))\n",
    "    for record in points[0]:\n",
    "        ret_embeddings.append(record.vector)\n",
    "\n",
    "    return ret_embeddings\n",
    "\n",
    "ret_embeddings0 = extract_embeddings(ret_points0)\n",
    "ret_embeddings1 = extract_embeddings(ret_points1)\n",
    "tot_embeddings = ret_embeddings0+ret_embeddings1"
   ]
  },
  {
   "cell_type": "markdown",
   "metadata": {},
   "source": [
    "## Get clustering related scores for both embeddings and reduced dimension UMAP embedddings"
   ]
  },
  {
   "cell_type": "code",
   "execution_count": null,
   "metadata": {},
   "outputs": [],
   "source": [
    "def calculate_metrics(embeddings, k_range):\n",
    "  wcss_scores = []\n",
    "  silhouette_scores = []\n",
    "  cluster_labels = []\n",
    "  for k in k_range:\n",
    "    kmeans = KMeans(n_clusters=k, random_state=0)  # Set random_state for reproducibility\n",
    "    kmeans.fit(embeddings)\n",
    "    cluster_labels.append(kmeans.labels_)\n",
    "    wcss_scores.append(kmeans.inertia_)\n",
    "    silhouette_scores.append(silhouette_score(embeddings, kmeans.labels_))\n",
    "  return wcss_scores, silhouette_scores, cluster_labels"
   ]
  },
  {
   "cell_type": "code",
   "execution_count": null,
   "metadata": {},
   "outputs": [],
   "source": [
    "wcss_scores, silhouette_scores, cluster_labels = calculate_metrics(tot_embeddings,range(2,20))"
   ]
  },
  {
   "cell_type": "code",
   "execution_count": null,
   "metadata": {},
   "outputs": [],
   "source": [
    "def reduce_dim(embeddings,num_dim,seed):\n",
    "    reducer = umap.UMAP(n_components=num_dim,random_state=seed)\n",
    "    umap_embeddings = reducer.fit_transform(embeddings)\n",
    "    return umap_embeddings\n",
    "\n",
    "umap_embeddings = reduce_dim(tot_embeddings,3,42)"
   ]
  },
  {
   "cell_type": "code",
   "execution_count": null,
   "metadata": {},
   "outputs": [],
   "source": [
    "umap_wcss_scores, umap_silhouette_scores, umap_cluster_labels = calculate_metrics(umap_embeddings,range(2,20))"
   ]
  },
  {
   "cell_type": "markdown",
   "metadata": {},
   "source": [
    "## Plot scores"
   ]
  },
  {
   "cell_type": "code",
   "execution_count": null,
   "metadata": {},
   "outputs": [],
   "source": [
    "plt.figure(figsize=(10, 6))\n",
    "# plt.plot(range(2,20), wcss_scores, marker='o', label='WCSS')\n",
    "plt.plot(range(2,20), silhouette_scores, marker='o', label='Silhouette Score')\n",
    "plt.xlabel('Number of Clusters (k)')\n",
    "plt.ylabel('Score')\n",
    "plt.title('Silhouette Score')\n",
    "plt.legend()\n",
    "plt.grid(True)\n",
    "plt.show()"
   ]
  },
  {
   "cell_type": "code",
   "execution_count": null,
   "metadata": {},
   "outputs": [],
   "source": []
  }
 ],
 "metadata": {
  "kernelspec": {
   "display_name": "env1",
   "language": "python",
   "name": "python3"
  },
  "language_info": {
   "codemirror_mode": {
    "name": "ipython",
    "version": 3
   },
   "file_extension": ".py",
   "mimetype": "text/x-python",
   "name": "python",
   "nbconvert_exporter": "python",
   "pygments_lexer": "ipython3",
   "version": "3.11.9"
  }
 },
 "nbformat": 4,
 "nbformat_minor": 2
}
